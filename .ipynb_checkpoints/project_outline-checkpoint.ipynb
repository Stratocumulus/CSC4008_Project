{
 "cells": [
  {
   "cell_type": "markdown",
   "metadata": {},
   "source": [
    "# CSC4008 Project Outline\n",
    "作业分为如下部分：\n",
    "- 数据描述与清洗\n",
    "- 复原教授论文中的K-means 简单说明消费者确实存在分类现象\n",
    "- 计算每个消费者的marginal consumer impact（MCI）\n",
    "- 利用MCI标注出部分可能位于同一cluster中的消费者，利用similarity矩阵的补全完成分类，（这玩意甚至是robust的，outlier不会被归类）\n",
    "- 比较这种分类和K-means，教授的简单一维MCI分类的异同\n"
   ]
  },
  {
   "cell_type": "markdown",
   "metadata": {},
   "source": [
    "## 1. 数据描述与清洗\n",
    "数据总共有三列：日期与时间，用户ID，用户在对应时间内的用电量。\n",
    "用户的数据记录数可以不同，这说明存在一部分用户在某部分时间中的消费是未被记录的（缺失值）。\n",
    "\n",
    "用户总数为346。\n",
    "每个用户的记录数量见consumer_counts.txt\n"
   ]
  },
  {
   "cell_type": "code",
   "execution_count": 1,
   "metadata": {},
   "outputs": [
    {
     "name": "stdout",
     "output_type": "stream",
     "text": [
      "4874    173100\n",
      "2158    173100\n",
      "1551    173100\n",
      "1617    173100\n",
      "1632    173100\n",
      "         ...  \n",
      "3734     86400\n",
      "1796     85680\n",
      "9295     46520\n",
      "9836      4760\n",
      "9333      4760\n",
      "Name: dataid, Length: 346, dtype: int64\n"
     ]
    }
   ],
   "source": [
    "import numpy as np\n",
    "import pandas as pd\n",
    "\n",
    "# read in dataset\n",
    "df1 = pd.read_csv(\"dataset/pecan_1_min_part1.csv\")\n",
    "df2 = pd.read_csv(\"dataset/pecan_1_min_part2.csv\")\n",
    "df3 = pd.read_csv(\"dataset/pecan_1_min_part3.csv\")\n",
    "df4 = pd.read_csv(\"dataset/pecan_1_min_part4.csv\")\n",
    "df5 = pd.read_csv(\"dataset/pecan_1_min_part5.csv\")\n",
    "df6 = pd.read_csv(\"dataset/pecan_1_min_part6.csv\")\n",
    "df7 = pd.read_csv(\"dataset/pecan_1_min_part7.csv\")\n",
    "df8 = pd.read_csv(\"dataset/pecan_1_min_part8.csv\")\n",
    "df9 = pd.read_csv(\"dataset/pecan_1_min_part9.csv\")\n",
    "df10 = pd.read_csv(\"dataset/pecan_1_min_part10.csv\")\n",
    "df11 = pd.read_csv(\"dataset/pecan_1_min_part11.csv\")\n",
    "\n",
    "# print(df1.head())\n",
    "# print(df1['dataid'].value_counts())\n",
    "\n",
    "# count number of costumers\n",
    "df = pd.concat([df1, df2, df3, df4, df5, df6, df7, df8, df9, df10, df11])\n",
    "print(df['dataid'].value_counts())\n",
    "\n",
    "# 346 consumers"
   ]
  },
  {
   "cell_type": "markdown",
   "metadata": {},
   "source": [
    "数据的第一列是时间。数据清洗的第一步是将时间设为index，方便后期提取每日的电力消费数据。\n",
    "\n",
    "（此处参考 pandas：时间序列与日期用法）\n",
    "```python\n",
    "# 去除时区\n",
    "df['localminute'] = df['localminute'].map(lambda x: str(x)[:-3])\n",
    "\n",
    "# 字符串时间数据转换为时间戳\n",
    "df['localminute'] = pd.to_datetime(df['localminute'])\n",
    "df.set_index(\"localminute\", inplace=True)\n",
    "\n",
    "# 查看每日电力总消耗\n",
    "print(df.resample('D').sum()) \n",
    "\n",
    "                     dataid    use\n",
    "localminute                       \n",
    "2016-01-01 00:00:00      26  0.519\n",
    "2016-01-01 00:00:00      59  1.176\n",
    "2016-01-01 00:00:00      86  0.469\n",
    "2016-01-01 00:00:00     114  1.006\n",
    "2016-01-01 00:00:00     370  0.519\n",
    "...                     ...    ...\n",
    "2016-03-04 01:19:00    9235  0.309\n",
    "2016-03-04 01:19:00    9654  0.202\n",
    "2016-03-04 01:20:00    8317  0.634\n",
    "2016-03-04 01:20:00    9134  0.884\n",
    "2016-03-04 01:20:00    8829  0.507\n",
    "\n",
    "[49443400 rows x 2 columns]\n",
    "                 dataid         use\n",
    "localminute                        \n",
    "2016-01-01   2427274080  546607.568\n",
    "2016-01-02   2427274080  553381.135\n",
    "2016-01-03   2427184744  512692.356\n",
    "2016-01-04   2427274080  513023.177\n",
    "2016-01-05   2427274080  510770.283\n",
    "...                 ...         ...\n",
    "2016-04-26    720524160  371784.480\n",
    "2016-04-27    720524160  350438.062\n",
    "2016-04-28    720416400  356966.016\n",
    "2016-04-29    716495760  369063.316\n",
    "2016-04-30    126155394   51086.188\n",
    "\n",
    "[121 rows x 2 columns]\n",
    "```\n",
    "\n",
    "数据采集的最小间隔是分钟。一条数据就是某用户在当天的某一分钟内的电力消费。\n",
    "```python\n",
    "print(df1[df1['dataid'] == 26]) # 查看26号用户的记录\n",
    "\n",
    "dataid    use\n",
    "localminute                       \n",
    "2016-01-01 00:00:00      26  0.519\n",
    "2016-01-01 00:01:00      26  0.519\n",
    "2016-01-01 00:02:00      26  0.518\n",
    "2016-01-01 00:03:00      26  0.519\n",
    "2016-01-01 00:04:00      26  0.518\n",
    "...                     ...    ...\n",
    "2016-04-30 04:37:00      26  0.510\n",
    "2016-04-30 04:38:00      26  0.538\n",
    "2016-04-30 04:39:00      26  0.506\n",
    "2016-04-30 04:40:00      26  0.000\n",
    "2016-04-30 04:41:00      26  0.000\n",
    "\n",
    "[173022 rows x 2 columns]\n",
    "\n",
    "Process finished with exit code 0\n",
    "\n",
    "```\n",
    "文件 用户数据量统计.txt中有所有用户的在1月1日到4月29日的数据量统计。（截掉4月30号的记录，从上面26号用户的记录末尾可以看出4月30号数据不全）\n",
    "多数用户数据量为172740分钟，比1月1日到4月29日的总时间172800分钟少了60分钟。似乎是因为3月13号凌晨两点的数据缺失。\n",
    "\n",
    "\n"
   ]
  },
  {
   "cell_type": "code",
   "execution_count": 2,
   "metadata": {},
   "outputs": [
    {
     "name": "stderr",
     "output_type": "stream",
     "text": [
      "<ipython-input-2-d74dabd6ac65>:9: SettingWithCopyWarning: \n",
      "A value is trying to be set on a copy of a slice from a DataFrame\n",
      "\n",
      "See the caveats in the documentation: https://pandas.pydata.org/pandas-docs/stable/user_guide/indexing.html#returning-a-view-versus-a-copy\n",
      "  df['use'][df['use']<0] = 0\n"
     ]
    }
   ],
   "source": [
    "# 去除时区\n",
    "df['localminute'] = df['localminute'].map(lambda x: str(x)[:-3])\n",
    "\n",
    "# 字符串时间数据转换为时间戳\n",
    "df['localminute'] = pd.to_datetime(df['localminute'])\n",
    "\n",
    "df['minute'] = df['localminute'].dt.time\n",
    "\n",
    "df.loc[df['use']<0,'use'] = 0\n",
    "\n",
    "df.set_index('localminute',inplace=True)"
   ]
  },
  {
   "cell_type": "code",
   "execution_count": 29,
   "metadata": {},
   "outputs": [
    {
     "data": {
      "text/plain": [
       "localminute\n",
       "2016-01-01 00:00:00    0.867036\n",
       "2016-01-01 00:01:00    0.528018\n",
       "2016-01-01 00:02:00    0.529385\n",
       "2016-01-01 00:03:00    0.528263\n",
       "2016-01-01 00:04:00    0.529537\n",
       "                         ...   \n",
       "2016-04-30 04:37:00    0.520502\n",
       "2016-04-30 04:38:00    0.520654\n",
       "2016-04-30 04:39:00    0.552065\n",
       "2016-04-30 04:40:00    0.511920\n",
       "2016-04-30 04:41:00   -0.050875\n",
       "Freq: T, Name: predicted_mean, Length: 173082, dtype: float64"
      ]
     },
     "execution_count": 29,
     "metadata": {},
     "output_type": "execute_result"
    }
   ],
   "source": [
    "from statsmodels.tsa.arima.model import ARIMA\n",
    "from statsmodels.graphics.tsaplots import plot_acf, plot_pacf\n",
    "resp = df.loc[df['dataid']==26,'use'].resample('1min').asfreq()\n",
    "model = ARIMA(resp, order=(2,0,0))\n"
   ]
  },
  {
   "cell_type": "code",
   "execution_count": null,
   "metadata": {},
   "outputs": [],
   "source": [
    "model_fit = model.fit().predict()"
   ]
  },
  {
   "cell_type": "code",
   "execution_count": 43,
   "metadata": {},
   "outputs": [],
   "source": [
    "resp.loc[pd.isna(resp),] = model_fit.loc[pd.isna(resp),]"
   ]
  },
  {
   "cell_type": "code",
   "execution_count": 44,
   "metadata": {},
   "outputs": [
    {
     "data": {
      "text/plain": [
       "0"
      ]
     },
     "execution_count": 44,
     "metadata": {},
     "output_type": "execute_result"
    }
   ],
   "source": [
    "np.sum(pd.isna(resp))"
   ]
  },
  {
   "cell_type": "code",
   "execution_count": 54,
   "metadata": {
    "scrolled": true
   },
   "outputs": [
    {
     "name": "stdout",
     "output_type": "stream",
     "text": [
      "Dataid: 26, Length: 173082, NA: 60\n",
      "Dataid: 59, Length: 173040, NA: 60\n",
      "Dataid: 86, Length: 173160, NA: 60\n",
      "Dataid: 114, Length: 173040, NA: 60\n",
      "Dataid: 370, Length: 173040, NA: 60\n",
      "Dataid: 379, Length: 173040, NA: 60\n",
      "Dataid: 115, Length: 172980, NA: 60\n",
      "Dataid: 77, Length: 173024, NA: 60\n",
      "Dataid: 93, Length: 172980, NA: 60\n",
      "Dataid: 171, Length: 173132, NA: 60\n",
      "Dataid: 101, Length: 173160, NA: 60\n",
      "Dataid: 187, Length: 172980, NA: 60\n",
      "Dataid: 222, Length: 172980, NA: 60\n",
      "Dataid: 252, Length: 173018, NA: 60\n",
      "Dataid: 434, Length: 173160, NA: 60\n",
      "Dataid: 483, Length: 173160, NA: 60\n",
      "Dataid: 490, Length: 173100, NA: 60\n",
      "Dataid: 516, Length: 173136, NA: 60\n",
      "Dataid: 624, Length: 173040, NA: 60\n",
      "Dataid: 661, Length: 172980, NA: 60\n",
      "Dataid: 545, Length: 173040, NA: 60\n",
      "Dataid: 668, Length: 173160, NA: 60\n",
      "Dataid: 484, Length: 173160, NA: 60\n",
      "Dataid: 499, Length: 173029, NA: 60\n",
      "Dataid: 744, Length: 172980, NA: 60\n",
      "Dataid: 575, Length: 173146, NA: 60\n",
      "Dataid: 547, Length: 173021, NA: 60\n",
      "Dataid: 774, Length: 172980, NA: 60\n",
      "Dataid: 781, Length: 173100, NA: 60\n",
      "Dataid: 503, Length: 172980, NA: 60\n",
      "Dataid: 585, Length: 173019, NA: 60\n",
      "Dataid: 821, Length: 172980, NA: 60\n",
      "Dataid: 871, Length: 173079, NA: 60\n",
      "Dataid: 890, Length: 173040, NA: 60\n",
      "Dataid: 604, Length: 173040, NA: 60\n",
      "Dataid: 898, Length: 128700, Length is too narrow (<170000)\n",
      "Dataid: 410, Length: 128760, Length is too narrow (<170000)\n",
      "Dataid: 946, Length: 173145, NA: 60\n",
      "Dataid: 974, Length: 172980, NA: 60\n",
      "Dataid: 1103, Length: 173084, NA: 60\n"
     ]
    },
    {
     "ename": "KeyboardInterrupt",
     "evalue": "",
     "output_type": "error",
     "traceback": [
      "\u001b[1;31m---------------------------------------------------------------------------\u001b[0m",
      "\u001b[1;31mKeyboardInterrupt\u001b[0m                         Traceback (most recent call last)",
      "\u001b[1;32m<ipython-input-54-97b1ab221baf>\u001b[0m in \u001b[0;36m<module>\u001b[1;34m\u001b[0m\n\u001b[0;32m      7\u001b[0m         \u001b[1;32mcontinue\u001b[0m\u001b[1;33m\u001b[0m\u001b[1;33m\u001b[0m\u001b[0m\n\u001b[0;32m      8\u001b[0m     \u001b[0mmodel\u001b[0m \u001b[1;33m=\u001b[0m \u001b[0mARIMA\u001b[0m\u001b[1;33m(\u001b[0m\u001b[0mresp\u001b[0m\u001b[1;33m,\u001b[0m \u001b[0morder\u001b[0m\u001b[1;33m=\u001b[0m\u001b[1;33m(\u001b[0m\u001b[1;36m2\u001b[0m\u001b[1;33m,\u001b[0m\u001b[1;36m0\u001b[0m\u001b[1;33m,\u001b[0m\u001b[1;36m0\u001b[0m\u001b[1;33m)\u001b[0m\u001b[1;33m)\u001b[0m\u001b[1;33m\u001b[0m\u001b[1;33m\u001b[0m\u001b[0m\n\u001b[1;32m----> 9\u001b[1;33m     \u001b[0mmodel_fit\u001b[0m \u001b[1;33m=\u001b[0m \u001b[0mmodel\u001b[0m\u001b[1;33m.\u001b[0m\u001b[0mfit\u001b[0m\u001b[1;33m(\u001b[0m\u001b[1;33m)\u001b[0m\u001b[1;33m.\u001b[0m\u001b[0mpredict\u001b[0m\u001b[1;33m(\u001b[0m\u001b[1;33m)\u001b[0m\u001b[1;33m\u001b[0m\u001b[1;33m\u001b[0m\u001b[0m\n\u001b[0m\u001b[0;32m     10\u001b[0m     \u001b[0mresp\u001b[0m\u001b[1;33m.\u001b[0m\u001b[0mloc\u001b[0m\u001b[1;33m[\u001b[0m\u001b[0mpd\u001b[0m\u001b[1;33m.\u001b[0m\u001b[0misna\u001b[0m\u001b[1;33m(\u001b[0m\u001b[0mresp\u001b[0m\u001b[1;33m)\u001b[0m\u001b[1;33m,\u001b[0m\u001b[1;33m]\u001b[0m \u001b[1;33m=\u001b[0m \u001b[0mmodel_fit\u001b[0m\u001b[1;33m.\u001b[0m\u001b[0mloc\u001b[0m\u001b[1;33m[\u001b[0m\u001b[0mpd\u001b[0m\u001b[1;33m.\u001b[0m\u001b[0misna\u001b[0m\u001b[1;33m(\u001b[0m\u001b[0mresp\u001b[0m\u001b[1;33m)\u001b[0m\u001b[1;33m,\u001b[0m\u001b[1;33m]\u001b[0m\u001b[1;33m\u001b[0m\u001b[1;33m\u001b[0m\u001b[0m\n\u001b[0;32m     11\u001b[0m     \u001b[0mresp_list\u001b[0m\u001b[1;33m.\u001b[0m\u001b[0mappend\u001b[0m\u001b[1;33m(\u001b[0m\u001b[0mresp\u001b[0m\u001b[1;33m)\u001b[0m\u001b[1;33m\u001b[0m\u001b[1;33m\u001b[0m\u001b[0m\n",
      "\u001b[1;32mc:\\users\\82092\\appdata\\local\\programs\\python\\python38\\lib\\site-packages\\statsmodels\\tsa\\arima\\model.py\u001b[0m in \u001b[0;36mfit\u001b[1;34m(self, start_params, transformed, includes_fixed, method, method_kwargs, gls, gls_kwargs, cov_type, cov_kwds, return_params, low_memory)\u001b[0m\n\u001b[0;32m    341\u001b[0m                 \u001b[0mmethod_kwargs\u001b[0m\u001b[1;33m.\u001b[0m\u001b[0msetdefault\u001b[0m\u001b[1;33m(\u001b[0m\u001b[1;34m'disp'\u001b[0m\u001b[1;33m,\u001b[0m \u001b[1;36m0\u001b[0m\u001b[1;33m)\u001b[0m\u001b[1;33m\u001b[0m\u001b[1;33m\u001b[0m\u001b[0m\n\u001b[0;32m    342\u001b[0m \u001b[1;33m\u001b[0m\u001b[0m\n\u001b[1;32m--> 343\u001b[1;33m                 res = super(ARIMA, self).fit(\n\u001b[0m\u001b[0;32m    344\u001b[0m                     \u001b[0mreturn_params\u001b[0m\u001b[1;33m=\u001b[0m\u001b[0mreturn_params\u001b[0m\u001b[1;33m,\u001b[0m \u001b[0mlow_memory\u001b[0m\u001b[1;33m=\u001b[0m\u001b[0mlow_memory\u001b[0m\u001b[1;33m,\u001b[0m\u001b[1;33m\u001b[0m\u001b[1;33m\u001b[0m\u001b[0m\n\u001b[0;32m    345\u001b[0m                     cov_type=cov_type, cov_kwds=cov_kwds, **method_kwargs)\n",
      "\u001b[1;32mc:\\users\\82092\\appdata\\local\\programs\\python\\python38\\lib\\site-packages\\statsmodels\\tsa\\statespace\\mlemodel.py\u001b[0m in \u001b[0;36mfit\u001b[1;34m(self, start_params, transformed, includes_fixed, cov_type, cov_kwds, method, maxiter, full_output, disp, callback, return_params, optim_score, optim_complex_step, optim_hessian, flags, low_memory, **kwargs)\u001b[0m\n\u001b[0;32m    712\u001b[0m             \u001b[1;32melse\u001b[0m\u001b[1;33m:\u001b[0m\u001b[1;33m\u001b[0m\u001b[1;33m\u001b[0m\u001b[0m\n\u001b[0;32m    713\u001b[0m                 \u001b[0mfunc\u001b[0m \u001b[1;33m=\u001b[0m \u001b[0mself\u001b[0m\u001b[1;33m.\u001b[0m\u001b[0msmooth\u001b[0m\u001b[1;33m\u001b[0m\u001b[1;33m\u001b[0m\u001b[0m\n\u001b[1;32m--> 714\u001b[1;33m             res = func(mlefit.params, transformed=False, includes_fixed=False,\n\u001b[0m\u001b[0;32m    715\u001b[0m                        cov_type=cov_type, cov_kwds=cov_kwds)\n\u001b[0;32m    716\u001b[0m \u001b[1;33m\u001b[0m\u001b[0m\n",
      "\u001b[1;32mc:\\users\\82092\\appdata\\local\\programs\\python\\python38\\lib\\site-packages\\statsmodels\\tsa\\statespace\\mlemodel.py\u001b[0m in \u001b[0;36msmooth\u001b[1;34m(self, params, transformed, includes_fixed, complex_step, cov_type, cov_kwds, return_ssm, results_class, results_wrapper_class, **kwargs)\u001b[0m\n\u001b[0;32m    873\u001b[0m \u001b[1;33m\u001b[0m\u001b[0m\n\u001b[0;32m    874\u001b[0m         \u001b[1;31m# Wrap in a results object\u001b[0m\u001b[1;33m\u001b[0m\u001b[1;33m\u001b[0m\u001b[1;33m\u001b[0m\u001b[0m\n\u001b[1;32m--> 875\u001b[1;33m         return self._wrap_results(params, result, return_ssm, cov_type,\n\u001b[0m\u001b[0;32m    876\u001b[0m                                   \u001b[0mcov_kwds\u001b[0m\u001b[1;33m,\u001b[0m \u001b[0mresults_class\u001b[0m\u001b[1;33m,\u001b[0m\u001b[1;33m\u001b[0m\u001b[1;33m\u001b[0m\u001b[0m\n\u001b[0;32m    877\u001b[0m                                   results_wrapper_class)\n",
      "\u001b[1;32mc:\\users\\82092\\appdata\\local\\programs\\python\\python38\\lib\\site-packages\\statsmodels\\tsa\\statespace\\mlemodel.py\u001b[0m in \u001b[0;36m_wrap_results\u001b[1;34m(self, params, result, return_raw, cov_type, cov_kwds, results_class, wrapper_class)\u001b[0m\n\u001b[0;32m    772\u001b[0m                 \u001b[0mwrapper_class\u001b[0m \u001b[1;33m=\u001b[0m \u001b[0mself\u001b[0m\u001b[1;33m.\u001b[0m\u001b[0m_res_classes\u001b[0m\u001b[1;33m[\u001b[0m\u001b[1;34m'fit'\u001b[0m\u001b[1;33m]\u001b[0m\u001b[1;33m[\u001b[0m\u001b[1;36m1\u001b[0m\u001b[1;33m]\u001b[0m\u001b[1;33m\u001b[0m\u001b[1;33m\u001b[0m\u001b[0m\n\u001b[0;32m    773\u001b[0m \u001b[1;33m\u001b[0m\u001b[0m\n\u001b[1;32m--> 774\u001b[1;33m             \u001b[0mres\u001b[0m \u001b[1;33m=\u001b[0m \u001b[0mresults_class\u001b[0m\u001b[1;33m(\u001b[0m\u001b[0mself\u001b[0m\u001b[1;33m,\u001b[0m \u001b[0mparams\u001b[0m\u001b[1;33m,\u001b[0m \u001b[0mresult\u001b[0m\u001b[1;33m,\u001b[0m \u001b[1;33m**\u001b[0m\u001b[0mresult_kwargs\u001b[0m\u001b[1;33m)\u001b[0m\u001b[1;33m\u001b[0m\u001b[1;33m\u001b[0m\u001b[0m\n\u001b[0m\u001b[0;32m    775\u001b[0m             \u001b[0mresult\u001b[0m \u001b[1;33m=\u001b[0m \u001b[0mwrapper_class\u001b[0m\u001b[1;33m(\u001b[0m\u001b[0mres\u001b[0m\u001b[1;33m)\u001b[0m\u001b[1;33m\u001b[0m\u001b[1;33m\u001b[0m\u001b[0m\n\u001b[0;32m    776\u001b[0m         \u001b[1;32mreturn\u001b[0m \u001b[0mresult\u001b[0m\u001b[1;33m\u001b[0m\u001b[1;33m\u001b[0m\u001b[0m\n",
      "\u001b[1;32mc:\\users\\82092\\appdata\\local\\programs\\python\\python38\\lib\\site-packages\\statsmodels\\tsa\\statespace\\sarimax.py\u001b[0m in \u001b[0;36m__init__\u001b[1;34m(self, model, params, filter_results, cov_type, **kwargs)\u001b[0m\n\u001b[0;32m   1799\u001b[0m     def __init__(self, model, params, filter_results, cov_type=None,\n\u001b[0;32m   1800\u001b[0m                  **kwargs):\n\u001b[1;32m-> 1801\u001b[1;33m         super(SARIMAXResults, self).__init__(model, params, filter_results,\n\u001b[0m\u001b[0;32m   1802\u001b[0m                                              cov_type, **kwargs)\n\u001b[0;32m   1803\u001b[0m \u001b[1;33m\u001b[0m\u001b[0m\n",
      "\u001b[1;32mc:\\users\\82092\\appdata\\local\\programs\\python\\python38\\lib\\site-packages\\statsmodels\\tsa\\statespace\\mlemodel.py\u001b[0m in \u001b[0;36m__init__\u001b[1;34m(self, model, params, results, cov_type, cov_kwds, **kwargs)\u001b[0m\n\u001b[0;32m   2293\u001b[0m         \u001b[1;32mtry\u001b[0m\u001b[1;33m:\u001b[0m\u001b[1;33m\u001b[0m\u001b[1;33m\u001b[0m\u001b[0m\n\u001b[0;32m   2294\u001b[0m             \u001b[0mself\u001b[0m\u001b[1;33m.\u001b[0m\u001b[0m_rank\u001b[0m \u001b[1;33m=\u001b[0m \u001b[1;32mNone\u001b[0m\u001b[1;33m\u001b[0m\u001b[1;33m\u001b[0m\u001b[0m\n\u001b[1;32m-> 2295\u001b[1;33m             self._get_robustcov_results(cov_type=cov_type, use_self=True,\n\u001b[0m\u001b[0;32m   2296\u001b[0m                                         **cov_kwds)\n\u001b[0;32m   2297\u001b[0m         \u001b[1;32mexcept\u001b[0m \u001b[0mnp\u001b[0m\u001b[1;33m.\u001b[0m\u001b[0mlinalg\u001b[0m\u001b[1;33m.\u001b[0m\u001b[0mLinAlgError\u001b[0m\u001b[1;33m:\u001b[0m\u001b[1;33m\u001b[0m\u001b[1;33m\u001b[0m\u001b[0m\n",
      "\u001b[1;32mc:\\users\\82092\\appdata\\local\\programs\\python\\python38\\lib\\site-packages\\statsmodels\\tsa\\statespace\\mlemodel.py\u001b[0m in \u001b[0;36m_get_robustcov_results\u001b[1;34m(self, cov_type, **kwargs)\u001b[0m\n\u001b[0;32m   2523\u001b[0m                                                 approx_type=approx_type_str)\n\u001b[0;32m   2524\u001b[0m         \u001b[1;32melif\u001b[0m \u001b[0mself\u001b[0m\u001b[1;33m.\u001b[0m\u001b[0mcov_type\u001b[0m \u001b[1;33m==\u001b[0m \u001b[1;34m'opg'\u001b[0m\u001b[1;33m:\u001b[0m\u001b[1;33m\u001b[0m\u001b[1;33m\u001b[0m\u001b[0m\n\u001b[1;32m-> 2525\u001b[1;33m             \u001b[0mres\u001b[0m\u001b[1;33m.\u001b[0m\u001b[0mcov_params_default\u001b[0m \u001b[1;33m=\u001b[0m \u001b[0mres\u001b[0m\u001b[1;33m.\u001b[0m\u001b[0mcov_params_opg\u001b[0m\u001b[1;33m\u001b[0m\u001b[1;33m\u001b[0m\u001b[0m\n\u001b[0m\u001b[0;32m   2526\u001b[0m             res.cov_kwds['description'] = descriptions['OPG'].format(\n\u001b[0;32m   2527\u001b[0m                                                 approx_type=approx_type_str)\n",
      "\u001b[1;32mpandas\\_libs\\properties.pyx\u001b[0m in \u001b[0;36mpandas._libs.properties.CachedProperty.__get__\u001b[1;34m()\u001b[0m\n",
      "\u001b[1;32mc:\\users\\82092\\appdata\\local\\programs\\python\\python38\\lib\\site-packages\\statsmodels\\tsa\\statespace\\mlemodel.py\u001b[0m in \u001b[0;36mcov_params_opg\u001b[1;34m(self)\u001b[0m\n\u001b[0;32m   2653\u001b[0m         \u001b[0mproduct\u001b[0m \u001b[0mof\u001b[0m \u001b[0mgradients\u001b[0m \u001b[0mmethod\u001b[0m\u001b[1;33m.\u001b[0m\u001b[1;33m\u001b[0m\u001b[1;33m\u001b[0m\u001b[0m\n\u001b[0;32m   2654\u001b[0m         \"\"\"\n\u001b[1;32m-> 2655\u001b[1;33m         return self._cov_params_opg(self._cov_approx_complex_step,\n\u001b[0m\u001b[0;32m   2656\u001b[0m                                     self._cov_approx_centered)\n\u001b[0;32m   2657\u001b[0m \u001b[1;33m\u001b[0m\u001b[0m\n",
      "\u001b[1;32mc:\\users\\82092\\appdata\\local\\programs\\python\\python38\\lib\\site-packages\\statsmodels\\tsa\\statespace\\mlemodel.py\u001b[0m in \u001b[0;36m_cov_params_opg\u001b[1;34m(self, approx_complex_step, approx_centered)\u001b[0m\n\u001b[0;32m   2620\u001b[0m \u001b[1;33m\u001b[0m\u001b[0m\n\u001b[0;32m   2621\u001b[0m     \u001b[1;32mdef\u001b[0m \u001b[0m_cov_params_opg\u001b[0m\u001b[1;33m(\u001b[0m\u001b[0mself\u001b[0m\u001b[1;33m,\u001b[0m \u001b[0mapprox_complex_step\u001b[0m\u001b[1;33m=\u001b[0m\u001b[1;32mTrue\u001b[0m\u001b[1;33m,\u001b[0m \u001b[0mapprox_centered\u001b[0m\u001b[1;33m=\u001b[0m\u001b[1;32mFalse\u001b[0m\u001b[1;33m)\u001b[0m\u001b[1;33m:\u001b[0m\u001b[1;33m\u001b[0m\u001b[1;33m\u001b[0m\u001b[0m\n\u001b[1;32m-> 2622\u001b[1;33m         evaluated_hessian = self.nobs_effective * self.model._hessian_opg(\n\u001b[0m\u001b[0;32m   2623\u001b[0m             \u001b[0mself\u001b[0m\u001b[1;33m.\u001b[0m\u001b[0mparams\u001b[0m\u001b[1;33m,\u001b[0m \u001b[0mtransformed\u001b[0m\u001b[1;33m=\u001b[0m\u001b[1;32mTrue\u001b[0m\u001b[1;33m,\u001b[0m \u001b[0mincludes_fixed\u001b[0m\u001b[1;33m=\u001b[0m\u001b[1;32mTrue\u001b[0m\u001b[1;33m,\u001b[0m\u001b[1;33m\u001b[0m\u001b[1;33m\u001b[0m\u001b[0m\n\u001b[0;32m   2624\u001b[0m             \u001b[0mapprox_complex_step\u001b[0m\u001b[1;33m=\u001b[0m\u001b[0mapprox_complex_step\u001b[0m\u001b[1;33m,\u001b[0m\u001b[1;33m\u001b[0m\u001b[1;33m\u001b[0m\u001b[0m\n",
      "\u001b[1;32mc:\\users\\82092\\appdata\\local\\programs\\python\\python38\\lib\\site-packages\\statsmodels\\tsa\\statespace\\mlemodel.py\u001b[0m in \u001b[0;36m_hessian_opg\u001b[1;34m(self, params, **kwargs)\u001b[0m\n\u001b[0;32m   1526\u001b[0m         \u001b[0minformation\u001b[0m \u001b[0mmatrix\u001b[0m\u001b[1;33m\u001b[0m\u001b[1;33m\u001b[0m\u001b[0m\n\u001b[0;32m   1527\u001b[0m         \"\"\"\n\u001b[1;32m-> 1528\u001b[1;33m         \u001b[1;32mreturn\u001b[0m \u001b[1;33m-\u001b[0m\u001b[0mself\u001b[0m\u001b[1;33m.\u001b[0m\u001b[0mopg_information_matrix\u001b[0m\u001b[1;33m(\u001b[0m\u001b[0mparams\u001b[0m\u001b[1;33m,\u001b[0m \u001b[1;33m**\u001b[0m\u001b[0mkwargs\u001b[0m\u001b[1;33m)\u001b[0m\u001b[1;33m\u001b[0m\u001b[1;33m\u001b[0m\u001b[0m\n\u001b[0m\u001b[0;32m   1529\u001b[0m \u001b[1;33m\u001b[0m\u001b[0m\n\u001b[0;32m   1530\u001b[0m     def _hessian_finite_difference(self, params, approx_centered=False,\n",
      "\u001b[1;32mc:\\users\\82092\\appdata\\local\\programs\\python\\python38\\lib\\site-packages\\statsmodels\\tsa\\statespace\\mlemodel.py\u001b[0m in \u001b[0;36mopg_information_matrix\u001b[1;34m(self, params, transformed, includes_fixed, approx_complex_step, **kwargs)\u001b[0m\n\u001b[0;32m   1213\u001b[0m                              \" with untransformed parameters.\")\n\u001b[0;32m   1214\u001b[0m \u001b[1;33m\u001b[0m\u001b[0m\n\u001b[1;32m-> 1215\u001b[1;33m         score_obs = self.score_obs(params, transformed=transformed,\n\u001b[0m\u001b[0;32m   1216\u001b[0m                                    \u001b[0mincludes_fixed\u001b[0m\u001b[1;33m=\u001b[0m\u001b[0mincludes_fixed\u001b[0m\u001b[1;33m,\u001b[0m\u001b[1;33m\u001b[0m\u001b[1;33m\u001b[0m\u001b[0m\n\u001b[0;32m   1217\u001b[0m                                    \u001b[0mapprox_complex_step\u001b[0m\u001b[1;33m=\u001b[0m\u001b[0mapprox_complex_step\u001b[0m\u001b[1;33m,\u001b[0m\u001b[1;33m\u001b[0m\u001b[1;33m\u001b[0m\u001b[0m\n",
      "\u001b[1;32mc:\\users\\82092\\appdata\\local\\programs\\python\\python38\\lib\\site-packages\\statsmodels\\tsa\\statespace\\mlemodel.py\u001b[0m in \u001b[0;36mscore_obs\u001b[1;34m(self, params, method, transformed, includes_fixed, approx_complex_step, approx_centered, **kwargs)\u001b[0m\n\u001b[0;32m   1432\u001b[0m             \u001b[0mepsilon\u001b[0m \u001b[1;33m=\u001b[0m \u001b[0m_get_epsilon\u001b[0m\u001b[1;33m(\u001b[0m\u001b[0mparams\u001b[0m\u001b[1;33m,\u001b[0m \u001b[1;36m2.\u001b[0m\u001b[1;33m,\u001b[0m \u001b[1;32mNone\u001b[0m\u001b[1;33m,\u001b[0m \u001b[0mlen\u001b[0m\u001b[1;33m(\u001b[0m\u001b[0mparams\u001b[0m\u001b[1;33m)\u001b[0m\u001b[1;33m)\u001b[0m\u001b[1;33m\u001b[0m\u001b[1;33m\u001b[0m\u001b[0m\n\u001b[0;32m   1433\u001b[0m             \u001b[0mkwargs\u001b[0m\u001b[1;33m[\u001b[0m\u001b[1;34m'complex_step'\u001b[0m\u001b[1;33m]\u001b[0m \u001b[1;33m=\u001b[0m \u001b[1;32mTrue\u001b[0m\u001b[1;33m\u001b[0m\u001b[1;33m\u001b[0m\u001b[0m\n\u001b[1;32m-> 1434\u001b[1;33m             score = approx_fprime_cs(params, self.loglikeobs, epsilon=epsilon,\n\u001b[0m\u001b[0;32m   1435\u001b[0m                                      kwargs=kwargs)\n\u001b[0;32m   1436\u001b[0m         \u001b[1;32melif\u001b[0m \u001b[0mmethod\u001b[0m \u001b[1;33m==\u001b[0m \u001b[1;34m'approx'\u001b[0m\u001b[1;33m:\u001b[0m\u001b[1;33m\u001b[0m\u001b[1;33m\u001b[0m\u001b[0m\n",
      "\u001b[1;32mc:\\users\\82092\\appdata\\local\\programs\\python\\python38\\lib\\site-packages\\statsmodels\\tools\\numdiff.py\u001b[0m in \u001b[0;36mapprox_fprime_cs\u001b[1;34m(x, f, epsilon, args, kwargs)\u001b[0m\n\u001b[0;32m    199\u001b[0m     \u001b[0mincrements\u001b[0m \u001b[1;33m=\u001b[0m \u001b[0mnp\u001b[0m\u001b[1;33m.\u001b[0m\u001b[0midentity\u001b[0m\u001b[1;33m(\u001b[0m\u001b[0mn\u001b[0m\u001b[1;33m)\u001b[0m \u001b[1;33m*\u001b[0m \u001b[1;36m1j\u001b[0m \u001b[1;33m*\u001b[0m \u001b[0mepsilon\u001b[0m\u001b[1;33m\u001b[0m\u001b[1;33m\u001b[0m\u001b[0m\n\u001b[0;32m    200\u001b[0m     \u001b[1;31m# TODO: see if this can be vectorized, but usually dim is small\u001b[0m\u001b[1;33m\u001b[0m\u001b[1;33m\u001b[0m\u001b[1;33m\u001b[0m\u001b[0m\n\u001b[1;32m--> 201\u001b[1;33m     partials = [f(x+ih, *args, **kwargs).imag / epsilon[i]\n\u001b[0m\u001b[0;32m    202\u001b[0m                 for i, ih in enumerate(increments)]\n\u001b[0;32m    203\u001b[0m     \u001b[1;32mreturn\u001b[0m \u001b[0mnp\u001b[0m\u001b[1;33m.\u001b[0m\u001b[0marray\u001b[0m\u001b[1;33m(\u001b[0m\u001b[0mpartials\u001b[0m\u001b[1;33m)\u001b[0m\u001b[1;33m.\u001b[0m\u001b[0mT\u001b[0m\u001b[1;33m\u001b[0m\u001b[1;33m\u001b[0m\u001b[0m\n",
      "\u001b[1;32mc:\\users\\82092\\appdata\\local\\programs\\python\\python38\\lib\\site-packages\\statsmodels\\tools\\numdiff.py\u001b[0m in \u001b[0;36m<listcomp>\u001b[1;34m(.0)\u001b[0m\n\u001b[0;32m    199\u001b[0m     \u001b[0mincrements\u001b[0m \u001b[1;33m=\u001b[0m \u001b[0mnp\u001b[0m\u001b[1;33m.\u001b[0m\u001b[0midentity\u001b[0m\u001b[1;33m(\u001b[0m\u001b[0mn\u001b[0m\u001b[1;33m)\u001b[0m \u001b[1;33m*\u001b[0m \u001b[1;36m1j\u001b[0m \u001b[1;33m*\u001b[0m \u001b[0mepsilon\u001b[0m\u001b[1;33m\u001b[0m\u001b[1;33m\u001b[0m\u001b[0m\n\u001b[0;32m    200\u001b[0m     \u001b[1;31m# TODO: see if this can be vectorized, but usually dim is small\u001b[0m\u001b[1;33m\u001b[0m\u001b[1;33m\u001b[0m\u001b[1;33m\u001b[0m\u001b[0m\n\u001b[1;32m--> 201\u001b[1;33m     partials = [f(x+ih, *args, **kwargs).imag / epsilon[i]\n\u001b[0m\u001b[0;32m    202\u001b[0m                 for i, ih in enumerate(increments)]\n\u001b[0;32m    203\u001b[0m     \u001b[1;32mreturn\u001b[0m \u001b[0mnp\u001b[0m\u001b[1;33m.\u001b[0m\u001b[0marray\u001b[0m\u001b[1;33m(\u001b[0m\u001b[0mpartials\u001b[0m\u001b[1;33m)\u001b[0m\u001b[1;33m.\u001b[0m\u001b[0mT\u001b[0m\u001b[1;33m\u001b[0m\u001b[1;33m\u001b[0m\u001b[0m\n",
      "\u001b[1;32mc:\\users\\82092\\appdata\\local\\programs\\python\\python38\\lib\\site-packages\\statsmodels\\tsa\\statespace\\mlemodel.py\u001b[0m in \u001b[0;36mloglikeobs\u001b[1;34m(self, params, transformed, includes_fixed, complex_step, **kwargs)\u001b[0m\n\u001b[0;32m    972\u001b[0m                     complex_step=complex_step)\n\u001b[0;32m    973\u001b[0m \u001b[1;33m\u001b[0m\u001b[0m\n\u001b[1;32m--> 974\u001b[1;33m         \u001b[1;32mreturn\u001b[0m \u001b[0mself\u001b[0m\u001b[1;33m.\u001b[0m\u001b[0mssm\u001b[0m\u001b[1;33m.\u001b[0m\u001b[0mloglikeobs\u001b[0m\u001b[1;33m(\u001b[0m\u001b[0mcomplex_step\u001b[0m\u001b[1;33m=\u001b[0m\u001b[0mcomplex_step\u001b[0m\u001b[1;33m,\u001b[0m \u001b[1;33m**\u001b[0m\u001b[0mkwargs\u001b[0m\u001b[1;33m)\u001b[0m\u001b[1;33m\u001b[0m\u001b[1;33m\u001b[0m\u001b[0m\n\u001b[0m\u001b[0;32m    975\u001b[0m \u001b[1;33m\u001b[0m\u001b[0m\n\u001b[0;32m    976\u001b[0m     \u001b[1;32mdef\u001b[0m \u001b[0msimulation_smoother\u001b[0m\u001b[1;33m(\u001b[0m\u001b[0mself\u001b[0m\u001b[1;33m,\u001b[0m \u001b[0msimulation_output\u001b[0m\u001b[1;33m=\u001b[0m\u001b[1;32mNone\u001b[0m\u001b[1;33m,\u001b[0m \u001b[1;33m**\u001b[0m\u001b[0mkwargs\u001b[0m\u001b[1;33m)\u001b[0m\u001b[1;33m:\u001b[0m\u001b[1;33m\u001b[0m\u001b[1;33m\u001b[0m\u001b[0m\n",
      "\u001b[1;32mc:\\users\\82092\\appdata\\local\\programs\\python\\python38\\lib\\site-packages\\statsmodels\\tsa\\statespace\\kalman_filter.py\u001b[0m in \u001b[0;36mloglikeobs\u001b[1;34m(self, **kwargs)\u001b[0m\n\u001b[0;32m   1048\u001b[0m                 \u001b[1;34m'conserve_memory'\u001b[0m\u001b[1;33m,\u001b[0m\u001b[1;33m\u001b[0m\u001b[1;33m\u001b[0m\u001b[0m\n\u001b[0;32m   1049\u001b[0m                 MEMORY_CONSERVE ^ (MEMORY_NO_FORECAST | MEMORY_NO_LIKELIHOOD))\n\u001b[1;32m-> 1050\u001b[1;33m         \u001b[0mkfilter\u001b[0m \u001b[1;33m=\u001b[0m \u001b[0mself\u001b[0m\u001b[1;33m.\u001b[0m\u001b[0m_filter\u001b[0m\u001b[1;33m(\u001b[0m\u001b[1;33m**\u001b[0m\u001b[0mkwargs\u001b[0m\u001b[1;33m)\u001b[0m\u001b[1;33m\u001b[0m\u001b[1;33m\u001b[0m\u001b[0m\n\u001b[0m\u001b[0;32m   1051\u001b[0m         \u001b[0mllf_obs\u001b[0m \u001b[1;33m=\u001b[0m \u001b[0mnp\u001b[0m\u001b[1;33m.\u001b[0m\u001b[0marray\u001b[0m\u001b[1;33m(\u001b[0m\u001b[0mkfilter\u001b[0m\u001b[1;33m.\u001b[0m\u001b[0mloglikelihood\u001b[0m\u001b[1;33m,\u001b[0m \u001b[0mcopy\u001b[0m\u001b[1;33m=\u001b[0m\u001b[1;32mTrue\u001b[0m\u001b[1;33m)\u001b[0m\u001b[1;33m\u001b[0m\u001b[1;33m\u001b[0m\u001b[0m\n\u001b[0;32m   1052\u001b[0m         loglikelihood_burn = kwargs.get('loglikelihood_burn',\n",
      "\u001b[1;31mKeyboardInterrupt\u001b[0m: "
     ]
    }
   ],
   "source": [
    "resp_list = []\n",
    "for item in df['dataid'].unique():\n",
    "    resp = df.loc[df['dataid']==item,'use'].resample('1min').asfreq()\n",
    "    na_index = pd.isna(resp)\n",
    "    if resp.shape[0] < 170000:\n",
    "        print(\"Dataid: %d, Length: %d, Length is too narrow (<170000)\"%(item, resp.shape[0]))\n",
    "        resp_list.append(resp)\n",
    "        continue\n",
    "    model = ARIMA(resp, order=(2,0,0))\n",
    "    model_fit = model.fit().predict()\n",
    "    resp.loc[pd.isna(resp),] = model_fit.loc[pd.isna(resp),]\n",
    "    resp_list.append(resp)\n",
    "    print(\"Dataid: %d, Length: %d, NA: %d\"%(item, resp.shape[0], np.sum(na_index)))\n"
   ]
  },
  {
   "cell_type": "code",
   "execution_count": 22,
   "metadata": {},
   "outputs": [
    {
     "data": {
      "image/png": "[encoded data removed]",
      "text/plain": [
       "<Figure size 432x288 with 1 Axes>"
      ]
     },
     "execution_count": 22,
     "metadata": {},
     "output_type": "execute_result"
    },
    {
     "data": {
      "image/png": "[encoded data removed]",
      "text/plain": [
       "<Figure size 432x288 with 1 Axes>"
      ]
     },
     "metadata": {
      "needs_background": "light"
     },
     "output_type": "display_data"
    },
    {
     "data": {
      "image/png": "[encoded data removed]",
      "text/plain": [
       "<Figure size 432x288 with 1 Axes>"
      ]
     },
     "metadata": {
      "needs_background": "light"
     },
     "output_type": "display_data"
    }
   ],
   "source": [
    "plot_acf(resp.dropna())\n",
    "plot_pacf(resp.dropna())"
   ]
  },
  {
   "cell_type": "code",
   "execution_count": 3,
   "metadata": {},
   "outputs": [
    {
     "data": {
      "text/html": [
       "<div>\n",
       "<style scoped>\n",
       "    .dataframe tbody tr th:only-of-type {\n",
       "        vertical-align: middle;\n",
       "    }\n",
       "\n",
       "    .dataframe tbody tr th {\n",
       "        vertical-align: top;\n",
       "    }\n",
       "\n",
       "    .dataframe thead th {\n",
       "        text-align: right;\n",
       "    }\n",
       "</style>\n",
       "<table border=\"1\" class=\"dataframe\">\n",
       "  <thead>\n",
       "    <tr style=\"text-align: right;\">\n",
       "      <th></th>\n",
       "      <th></th>\n",
       "      <th>use</th>\n",
       "    </tr>\n",
       "    <tr>\n",
       "      <th>dataid</th>\n",
       "      <th>minute</th>\n",
       "      <th></th>\n",
       "    </tr>\n",
       "  </thead>\n",
       "  <tbody>\n",
       "    <tr>\n",
       "      <th rowspan=\"5\" valign=\"top\">26</th>\n",
       "      <th>00:00:00</th>\n",
       "      <td>0.834868</td>\n",
       "    </tr>\n",
       "    <tr>\n",
       "      <th>00:01:00</th>\n",
       "      <td>0.822281</td>\n",
       "    </tr>\n",
       "    <tr>\n",
       "      <th>00:02:00</th>\n",
       "      <td>0.828562</td>\n",
       "    </tr>\n",
       "    <tr>\n",
       "      <th>00:03:00</th>\n",
       "      <td>0.825140</td>\n",
       "    </tr>\n",
       "    <tr>\n",
       "      <th>00:04:00</th>\n",
       "      <td>0.831901</td>\n",
       "    </tr>\n",
       "    <tr>\n",
       "      <th>...</th>\n",
       "      <th>...</th>\n",
       "      <td>...</td>\n",
       "    </tr>\n",
       "    <tr>\n",
       "      <th rowspan=\"5\" valign=\"top\">9983</th>\n",
       "      <th>23:55:00</th>\n",
       "      <td>0.543492</td>\n",
       "    </tr>\n",
       "    <tr>\n",
       "      <th>23:56:00</th>\n",
       "      <td>0.532952</td>\n",
       "    </tr>\n",
       "    <tr>\n",
       "      <th>23:57:00</th>\n",
       "      <td>0.528381</td>\n",
       "    </tr>\n",
       "    <tr>\n",
       "      <th>23:58:00</th>\n",
       "      <td>0.524683</td>\n",
       "    </tr>\n",
       "    <tr>\n",
       "      <th>23:59:00</th>\n",
       "      <td>0.520508</td>\n",
       "    </tr>\n",
       "  </tbody>\n",
       "</table>\n",
       "<p>498240 rows × 1 columns</p>\n",
       "</div>"
      ],
      "text/plain": [
       "                      use\n",
       "dataid minute            \n",
       "26     00:00:00  0.834868\n",
       "       00:01:00  0.822281\n",
       "       00:02:00  0.828562\n",
       "       00:03:00  0.825140\n",
       "       00:04:00  0.831901\n",
       "...                   ...\n",
       "9983   23:55:00  0.543492\n",
       "       23:56:00  0.532952\n",
       "       23:57:00  0.528381\n",
       "       23:58:00  0.524683\n",
       "       23:59:00  0.520508\n",
       "\n",
       "[498240 rows x 1 columns]"
      ]
     },
     "execution_count": 3,
     "metadata": {},
     "output_type": "execute_result"
    }
   ],
   "source": [
    "res = df.groupby(['dataid','minute']).mean()\n",
    "res"
   ]
  },
  {
   "cell_type": "code",
   "execution_count": 4,
   "metadata": {},
   "outputs": [
    {
     "data": {
      "text/html": [
       "<div>\n",
       "<style scoped>\n",
       "    .dataframe tbody tr th:only-of-type {\n",
       "        vertical-align: middle;\n",
       "    }\n",
       "\n",
       "    .dataframe tbody tr th {\n",
       "        vertical-align: top;\n",
       "    }\n",
       "\n",
       "    .dataframe thead th {\n",
       "        text-align: right;\n",
       "    }\n",
       "</style>\n",
       "<table border=\"1\" class=\"dataframe\">\n",
       "  <thead>\n",
       "    <tr style=\"text-align: right;\">\n",
       "      <th></th>\n",
       "      <th>dataid</th>\n",
       "      <th>minute</th>\n",
       "      <th>use</th>\n",
       "    </tr>\n",
       "  </thead>\n",
       "  <tbody>\n",
       "    <tr>\n",
       "      <th>0</th>\n",
       "      <td>26</td>\n",
       "      <td>00:00:00</td>\n",
       "      <td>0.834868</td>\n",
       "    </tr>\n",
       "    <tr>\n",
       "      <th>1</th>\n",
       "      <td>26</td>\n",
       "      <td>00:01:00</td>\n",
       "      <td>0.822281</td>\n",
       "    </tr>\n",
       "    <tr>\n",
       "      <th>2</th>\n",
       "      <td>26</td>\n",
       "      <td>00:02:00</td>\n",
       "      <td>0.828562</td>\n",
       "    </tr>\n",
       "    <tr>\n",
       "      <th>3</th>\n",
       "      <td>26</td>\n",
       "      <td>00:03:00</td>\n",
       "      <td>0.825140</td>\n",
       "    </tr>\n",
       "    <tr>\n",
       "      <th>4</th>\n",
       "      <td>26</td>\n",
       "      <td>00:04:00</td>\n",
       "      <td>0.831901</td>\n",
       "    </tr>\n",
       "  </tbody>\n",
       "</table>\n",
       "</div>"
      ],
      "text/plain": [
       "   dataid    minute       use\n",
       "0      26  00:00:00  0.834868\n",
       "1      26  00:01:00  0.822281\n",
       "2      26  00:02:00  0.828562\n",
       "3      26  00:03:00  0.825140\n",
       "4      26  00:04:00  0.831901"
      ]
     },
     "execution_count": 4,
     "metadata": {},
     "output_type": "execute_result"
    }
   ],
   "source": [
    "res.to_csv(\"test.csv\")\n",
    "pd.read_csv(\"test.csv\").head()"
   ]
  },
  {
   "cell_type": "code",
   "execution_count": 5,
   "metadata": {},
   "outputs": [
    {
     "data": {
      "text/html": [
       "<div>\n",
       "<style scoped>\n",
       "    .dataframe tbody tr th:only-of-type {\n",
       "        vertical-align: middle;\n",
       "    }\n",
       "\n",
       "    .dataframe tbody tr th {\n",
       "        vertical-align: top;\n",
       "    }\n",
       "\n",
       "    .dataframe thead th {\n",
       "        text-align: right;\n",
       "    }\n",
       "</style>\n",
       "<table border=\"1\" class=\"dataframe\">\n",
       "  <thead>\n",
       "    <tr style=\"text-align: right;\">\n",
       "      <th></th>\n",
       "      <th>use</th>\n",
       "    </tr>\n",
       "    <tr>\n",
       "      <th>dataid</th>\n",
       "      <th></th>\n",
       "    </tr>\n",
       "  </thead>\n",
       "  <tbody>\n",
       "    <tr>\n",
       "      <th>26</th>\n",
       "      <td>1249.083636</td>\n",
       "    </tr>\n",
       "    <tr>\n",
       "      <th>59</th>\n",
       "      <td>2174.190238</td>\n",
       "    </tr>\n",
       "    <tr>\n",
       "      <th>77</th>\n",
       "      <td>1882.256666</td>\n",
       "    </tr>\n",
       "    <tr>\n",
       "      <th>86</th>\n",
       "      <td>1645.699844</td>\n",
       "    </tr>\n",
       "    <tr>\n",
       "      <th>93</th>\n",
       "      <td>927.403459</td>\n",
       "    </tr>\n",
       "    <tr>\n",
       "      <th>...</th>\n",
       "      <td>...</td>\n",
       "    </tr>\n",
       "    <tr>\n",
       "      <th>9939</th>\n",
       "      <td>1396.169816</td>\n",
       "    </tr>\n",
       "    <tr>\n",
       "      <th>9942</th>\n",
       "      <td>1116.114429</td>\n",
       "    </tr>\n",
       "    <tr>\n",
       "      <th>9971</th>\n",
       "      <td>855.389253</td>\n",
       "    </tr>\n",
       "    <tr>\n",
       "      <th>9982</th>\n",
       "      <td>683.175142</td>\n",
       "    </tr>\n",
       "    <tr>\n",
       "      <th>9983</th>\n",
       "      <td>1762.261862</td>\n",
       "    </tr>\n",
       "  </tbody>\n",
       "</table>\n",
       "<p>346 rows × 1 columns</p>\n",
       "</div>"
      ],
      "text/plain": [
       "                use\n",
       "dataid             \n",
       "26      1249.083636\n",
       "59      2174.190238\n",
       "77      1882.256666\n",
       "86      1645.699844\n",
       "93       927.403459\n",
       "...             ...\n",
       "9939    1396.169816\n",
       "9942    1116.114429\n",
       "9971     855.389253\n",
       "9982     683.175142\n",
       "9983    1762.261862\n",
       "\n",
       "[346 rows x 1 columns]"
      ]
     },
     "execution_count": 5,
     "metadata": {},
     "output_type": "execute_result"
    }
   ],
   "source": [
    "pd.read_csv(\"test.csv\").groupby('dataid').sum()"
   ]
  },
  {
   "cell_type": "markdown",
   "metadata": {},
   "source": [
    "## 2. 简单的K-means分类\n",
    "能做就做，不能做直接搬老师论文开头的结论。"
   ]
  },
  {
   "cell_type": "markdown",
   "metadata": {},
   "source": [
    "## 3. 计算MCI\n",
    "这一步非常关键。\n",
    "\n",
    "老师在论证MCI定价的时候顺带提了一下efficiency。这块可以联系经济学知识填充一下pre内容。\n",
    "第i个用户在某天时段$t = 1,...,T$内的MCI与价格的关系如下：\n",
    "$$\n",
    "MCI_i = \\sum_{t=1}^{T} p(t) \\frac{l_i^t}{||Li||_1}\n",
    "$$\n",
    "\n",
    "MCI的具体计算如下：\n",
    "（上标为时刻，下标为用户名）\n",
    "假设用户总人数为$N$，数据采集自一个连续时段$(1,2,...,T)$。第i个用户在该时段内的能源消费记录为$L_i = (l_i^1,...,l_i^T)$。\n",
    "系统在t时刻的总能源消耗为$L^t = \\sum_{i =1}^{N} l_i^t$。\n",
    "系统的总能源消费记录为$L = (L^1,...,L^T)$\n",
    "假设生产$L$单位的能源的金钱花费有如下关系：\n",
    "\n",
    "$$\n",
    "C(L) = {1 \\over 2} a L^2 + bL + c\n",
    "$$\n",
    "那么，第i位用户的MCI为：\n",
    "\n",
    "$$\n",
    "\\begin{aligned}\n",
    " MCI_i &= \\lim_{\\Delta \\rightarrow 0} \\frac{C(L + \\frac{\\Delta L_i}{||L_i||_1}) - C(L)}{\\Delta} \\\\\n",
    " &= \\lim_{\\Delta \\rightarrow 0}\\frac{\\sum_{t=1}^T(aL^t + b)\\frac{\\Delta l_i^t}{||l_i||_1} + \\left(  \\frac{\\Delta l_i^t}{||l_i||_1}   \\right)^2 }{\\Delta} \\\\\n",
    " &= \\sum_{t=1}^T (aL^t + b)\\frac{ l_i^t}{||l_i||_1} \n",
    " \\end{aligned}\n",
    "$$\n",
    " 注意$p(t) = (aL^t + b)$，定价时让价格等于marginal cost，可以达到pareto efficiency。\n",
    " \n",
    "一个小问题是如何确定$C(L)$中的系数a，b。不过这个系数的问题应该不重要。下面取A=100，B=20，计算26号顾客在2016-01-01当天的MCI\n",
    "```python\n",
    "df_1day = df1['2016-01-01']\n",
    "\n",
    "print(\"1-Minute total electricity consumption: \")\n",
    "print(df_1day.resample('1Min').sum())\n",
    "\n",
    "print(\"id = 26 consumer's 1-minute consumption: \")\n",
    "print( sum(df_1day[df_1day['dataid'] == 26]['use']) )\n",
    "\n",
    "A = 100\n",
    "B = 20\n",
    "print('MCI = ')\n",
    "print(sum( (A * (df_1day.resample('1Min').sum())['use'] + B) * df_1day[df_1day['dataid'] == 26]['use'] / sum(df_1day[df_1day['dataid'] == 26]['use']) ) )\n",
    "```\n",
    "\n"
   ]
  },
  {
   "cell_type": "markdown",
   "metadata": {},
   "source": [
    "## 4. 矩阵补全分类\n",
    "用矩阵$S$做如下表示：$S(i,j) = 0$表示i，j不在一类中，$S(i,j) = 1$表示i，j在一类中。默认$S(i,i) = 1$,即一个元素和它本身在同一类中。\n",
    "\n",
    "假设我们有三个元素$\\{1,2,3\\}$，分类成两类$\\{1,3\\},\\{2\\}$。\n",
    "$$\n",
    "S = \\begin{bmatrix} \n",
    "1&0&1\\\\0&1&0\\\\1&0&1\n",
    "\\end{bmatrix}\n",
    "$$\n",
    "\n",
    "我们发现，矩阵S的rank即为种类的数量。\n",
    "\n",
    "\n",
    "\n"
   ]
  },
  {
   "cell_type": "code",
   "execution_count": 2,
   "metadata": {},
   "outputs": [
    {
     "data": {
      "text/plain": [
       "<matplotlib.axes._subplots.AxesSubplot at 0x1ecbf8cbc88>"
      ]
     },
     "execution_count": 2,
     "metadata": {},
     "output_type": "execute_result"
    },
    {
     "data": {
      "image/png": "[encoded data removed]",
      "text/plain": [
       "<Figure size 432x288 with 1 Axes>"
      ]
     },
     "metadata": {
      "needs_background": "light"
     },
     "output_type": "display_data"
    }
   ],
   "source": [
    "import pandas as pd\n",
    "\n",
    "user_df = pd.read_csv(\"user_data.csv\")\n",
    "user_df.plot.scatter(x='mci', y='total_consumption')\n"
   ]
  }
 ],
 "metadata": {
  "kernelspec": {
   "display_name": "Python 3",
   "language": "python",
   "name": "python3"
  },
  "language_info": {
   "codemirror_mode": {
    "name": "ipython",
    "version": 3
   },
   "file_extension": ".py",
   "mimetype": "text/x-python",
   "name": "python",
   "nbconvert_exporter": "python",
   "pygments_lexer": "ipython3",
   "version": "3.8.3"
  },
  "latex_envs": {
   "LaTeX_envs_menu_present": true,
   "autoclose": false,
   "autocomplete": true,
   "bibliofile": "biblio.bib",
   "cite_by": "apalike",
   "current_citInitial": 1,
   "eqLabelWithNumbers": true,
   "eqNumInitial": 1,
   "hotkeys": {
    "equation": "Ctrl-E",
    "itemize": "Ctrl-I"
   },
   "labels_anchors": false,
   "latex_user_defs": false,
   "report_style_numbering": false,
   "user_envs_cfg": false
  }
 },
 "nbformat": 4,
 "nbformat_minor": 2
}
