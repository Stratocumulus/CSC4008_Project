{
 "cells": [
  {
   "cell_type": "markdown",
   "metadata": {},
   "source": [
    "# CSC4008 Project Outline\n",
    "作业分为如下部分：\n",
    "- 数据描述与清洗\n",
    "- 复原教授论文中的K-means 简单说明消费者确实存在分类现象\n",
    "- 计算每个消费者的marginal consumer impact（MCI）\n",
    "- 利用MCI标注出部分可能位于同一cluster中的消费者，利用similarity矩阵的补全完成分类，（这玩意甚至是robust的，outlier不会被归类）\n",
    "- 比较这种分类和K-means，教授的简单一维MCI分类的异同\n"
   ]
  },
  {
   "cell_type": "markdown",
   "metadata": {},
   "source": [
    "## 1. 数据描述与清洗\n",
    "数据总共有三列：日期与时间，用户ID，用户在对应时间内的用电量。\n",
    "用户的数据记录数可以不同，这说明存在一部分用户在某部分时间中的消费是未被记录的（缺失值）。\n",
    "\n",
    "用户总数为346。\n",
    "每个用户的记录数量见consumer_counts.txt\n"
   ]
  },
  {
   "cell_type": "code",
   "execution_count": 9,
   "metadata": {},
   "outputs": [
    {
     "name": "stdout",
     "output_type": "stream",
     "text": [
      "4874    173100\n",
      "2158    173100\n",
      "1551    173100\n",
      "1617    173100\n",
      "1632    173100\n",
      "         ...  \n",
      "3734     86400\n",
      "1796     85680\n",
      "9295     46520\n",
      "9836      4760\n",
      "9333      4760\n",
      "Name: dataid, Length: 346, dtype: int64\n"
     ]
    }
   ],
   "source": [
    "import pandas as pd\n",
    "\n",
    "# read in dataset\n",
    "df1 = pd.read_csv(\"dataset/pecan_1_min_part1.csv\")\n",
    "df2 = pd.read_csv(\"dataset/pecan_1_min_part2.csv\")\n",
    "df3 = pd.read_csv(\"dataset/pecan_1_min_part3.csv\")\n",
    "df4 = pd.read_csv(\"dataset/pecan_1_min_part4.csv\")\n",
    "df5 = pd.read_csv(\"dataset/pecan_1_min_part5.csv\")\n",
    "df6 = pd.read_csv(\"dataset/pecan_1_min_part6.csv\")\n",
    "df7 = pd.read_csv(\"dataset/pecan_1_min_part7.csv\")\n",
    "df8 = pd.read_csv(\"dataset/pecan_1_min_part8.csv\")\n",
    "df9 = pd.read_csv(\"dataset/pecan_1_min_part9.csv\")\n",
    "df10 = pd.read_csv(\"dataset/pecan_1_min_part10.csv\")\n",
    "df11 = pd.read_csv(\"dataset/pecan_1_min_part11.csv\")\n",
    "\n",
    "# print(df1.head())\n",
    "# print(df1['dataid'].value_counts())\n",
    "\n",
    "# count number of costumers\n",
    "df = pd.concat([df1, df2, df3, df4, df5, df6, df7, df8, df9, df10, df11])\n",
    "print(df['dataid'].value_counts())\n",
    "\n",
    "# 346 consumers"
   ]
  },
  {
   "cell_type": "markdown",
   "metadata": {},
   "source": [
    "数据的第一列是时间。数据清洗的第一步是将时间设为index，方便后期提取每日的电力消费数据。\n",
    "\n",
    "（此处参考 pandas：时间序列与日期用法）\n",
    "```python\n",
    "# 去除时区\n",
    "df['localminute'] = df['localminute'].map(lambda x: str(x)[:-3])\n",
    "\n",
    "# 字符串时间数据转换为时间戳\n",
    "df['localminute'] = pd.to_datetime(df['localminute'])\n",
    "df.set_index(\"localminute\", inplace=True)\n",
    "\n",
    "# 查看每日电力总消耗\n",
    "print(df.resample('D').sum()) \n",
    "\n",
    "                     dataid    use\n",
    "localminute                       \n",
    "2016-01-01 00:00:00      26  0.519\n",
    "2016-01-01 00:00:00      59  1.176\n",
    "2016-01-01 00:00:00      86  0.469\n",
    "2016-01-01 00:00:00     114  1.006\n",
    "2016-01-01 00:00:00     370  0.519\n",
    "...                     ...    ...\n",
    "2016-03-04 01:19:00    9235  0.309\n",
    "2016-03-04 01:19:00    9654  0.202\n",
    "2016-03-04 01:20:00    8317  0.634\n",
    "2016-03-04 01:20:00    9134  0.884\n",
    "2016-03-04 01:20:00    8829  0.507\n",
    "\n",
    "[49443400 rows x 2 columns]\n",
    "                 dataid         use\n",
    "localminute                        \n",
    "2016-01-01   2427274080  546607.568\n",
    "2016-01-02   2427274080  553381.135\n",
    "2016-01-03   2427184744  512692.356\n",
    "2016-01-04   2427274080  513023.177\n",
    "2016-01-05   2427274080  510770.283\n",
    "...                 ...         ...\n",
    "2016-04-26    720524160  371784.480\n",
    "2016-04-27    720524160  350438.062\n",
    "2016-04-28    720416400  356966.016\n",
    "2016-04-29    716495760  369063.316\n",
    "2016-04-30    126155394   51086.188\n",
    "\n",
    "[121 rows x 2 columns]\n",
    "```\n",
    "\n",
    "数据采集的最小间隔是分钟。一条数据就是某用户在当天的某一分钟内的电力消费。\n",
    "```python\n",
    "print(df1[df1['dataid'] == 26]) # 查看26号用户的记录\n",
    "\n",
    "dataid    use\n",
    "localminute                       \n",
    "2016-01-01 00:00:00      26  0.519\n",
    "2016-01-01 00:01:00      26  0.519\n",
    "2016-01-01 00:02:00      26  0.518\n",
    "2016-01-01 00:03:00      26  0.519\n",
    "2016-01-01 00:04:00      26  0.518\n",
    "...                     ...    ...\n",
    "2016-04-30 04:37:00      26  0.510\n",
    "2016-04-30 04:38:00      26  0.538\n",
    "2016-04-30 04:39:00      26  0.506\n",
    "2016-04-30 04:40:00      26  0.000\n",
    "2016-04-30 04:41:00      26  0.000\n",
    "\n",
    "[173022 rows x 2 columns]\n",
    "\n",
    "Process finished with exit code 0\n",
    "\n",
    "```\n",
    "文件 用户数据量统计.txt中有所有用户的在1月1日到4月29日的数据量统计。（截掉4月30号的记录，从上面26号用户的记录末尾可以看出4月30号数据不全）\n",
    "多数用户数据量为172740分钟，比1月1日到4月29日的总时间172800分钟少了60分钟。似乎是因为3月13号凌晨两点的数据缺失。\n",
    "\n",
    "\n"
   ]
  },
  {
   "cell_type": "code",
   "execution_count": 8,
   "metadata": {},
   "outputs": [
    {
     "name": "stdout",
     "output_type": "stream",
     "text": [
      "                     dataid    use\n",
      "localminute                       \n",
      "2016-01-01 00:00:00      26  0.519\n",
      "2016-01-01 00:00:00      59  1.176\n",
      "2016-01-01 00:00:00      86  0.469\n",
      "2016-01-01 00:00:00     114  1.006\n",
      "2016-01-01 00:00:00     370  0.519\n",
      "...                     ...    ...\n",
      "2016-03-04 01:19:00    9235  0.309\n",
      "2016-03-04 01:19:00    9654  0.202\n",
      "2016-03-04 01:20:00    8317  0.634\n",
      "2016-03-04 01:20:00    9134  0.884\n",
      "2016-03-04 01:20:00    8829  0.507\n",
      "\n",
      "[49443400 rows x 2 columns]\n",
      "                 dataid         use\n",
      "localminute                        \n",
      "2016-01-01   2427274080  546607.568\n",
      "2016-01-02   2427274080  553381.135\n",
      "2016-01-03   2427184744  512692.356\n",
      "2016-01-04   2427274080  513023.177\n",
      "2016-01-05   2427274080  510770.283\n",
      "...                 ...         ...\n",
      "2016-04-26    720524160  371784.480\n",
      "2016-04-27    720524160  350438.062\n",
      "2016-04-28    720416400  356966.016\n",
      "2016-04-29    716495760  369063.316\n",
      "2016-04-30    126155394   51086.188\n",
      "\n",
      "[121 rows x 2 columns]\n"
     ]
    }
   ],
   "source": [
    "# 去除时区\n",
    "df['localminute'] = df['localminute'].map(lambda x: str(x)[:-3])\n",
    "\n",
    "# 字符串时间数据转换为时间戳\n",
    "df['localminute'] = pd.to_datetime(df['localminute'])\n",
    "df.set_index(\"localminute\", inplace=True)\n",
    "\n",
    "# 查看每日电力总消耗\n",
    "print(df.resample('D').sum())  \n",
    "\n"
   ]
  },
  {
   "cell_type": "markdown",
   "metadata": {},
   "source": [
    "## 2. 简单的K-means分类\n",
    "能做就做，不能做直接搬老师论文开头的结论。"
   ]
  },
  {
   "cell_type": "markdown",
   "metadata": {},
   "source": [
    "## 3. 计算MCI\n",
    "这一步非常关键。\n",
    "\n",
    "老师在论证MCI定价的时候顺带提了一下efficiency。这块可以联系经济学知识填充一下pre内容。\n",
    "第i个用户在某天时段$t = 1,...,T$内的MCI与价格的关系如下：\n",
    "$$\n",
    "MCI_i = \\sum_{t=1}^{T} p(t) \\frac{l_i^t}{||Li||_1}\n",
    "$$\n",
    "\n",
    "MCI的具体计算如下：\n",
    "（上标为时刻，下标为用户名）\n",
    "假设用户总人数为$N$，数据采集自一个连续时段$(1,2,...,T)$。第i个用户在该时段内的能源消费记录为$L_i = (l_i^1,...,l_i^T)$。\n",
    "系统在t时刻的总能源消耗为$L^t = \\sum_{i =1}^{N} l_i^t$。\n",
    "系统的总能源消费记录为$L = (L^1,...,L^T)$\n",
    "假设生产$L$单位的能源的金钱花费有如下关系：\n",
    "\n",
    "$$\n",
    "C(L) = {1 \\over 2} a L^2 + bL + c\n",
    "$$\n",
    "那么，第i位用户的MCI为：\n",
    "\n",
    "$$\n",
    "\\begin{aligned}\n",
    " MCI_i &= \\lim_{\\Delta \\rightarrow 0} \\frac{C(L + \\frac{\\Delta L_i}{||L_i||_1}) - C(L)}{\\Delta} \\\\\n",
    " &= \\lim_{\\Delta \\rightarrow 0}\\frac{\\sum_{t=1}^T(aL^t + b)\\frac{\\Delta l_i^t}{||l_i||_1} + \\left(  \\frac{\\Delta l_i^t}{||l_i||_1}   \\right)^2 }{\\Delta} \\\\\n",
    " &= \\sum_{t=1}^T (aL^t + b)\\frac{ l_i^t}{||l_i||_1} \n",
    " \\end{aligned}\n",
    "$$\n",
    " 注意$p(t) = (aL^t + b)$，定价时让价格等于marginal cost，可以达到pareto efficiency。\n",
    " \n",
    "一个小问题是如何确定$C(L)$中的系数a，b。不过这个系数的问题应该不重要。下面取A=100，B=20，计算26号顾客在2016-01-01当天的MCI\n",
    "```python\n",
    "df_1day = df1['2016-01-01']\n",
    "\n",
    "print(\"1-Minute total electricity consumption: \")\n",
    "print(df_1day.resample('1Min').sum())\n",
    "\n",
    "print(\"id = 26 consumer's 1-minute consumption: \")\n",
    "print( sum(df_1day[df_1day['dataid'] == 26]['use']) )\n",
    "\n",
    "A = 100\n",
    "B = 20\n",
    "print('MCI = ')\n",
    "print(sum( (A * (df_1day.resample('1Min').sum())['use'] + B) * df_1day[df_1day['dataid'] == 26]['use'] / sum(df_1day[df_1day['dataid'] == 26]['use']) ) )\n",
    "```\n",
    "\n"
   ]
  },
  {
   "cell_type": "markdown",
   "metadata": {},
   "source": [
    "## 4. 矩阵补全分类\n",
    "用矩阵$S$做如下表示：$S(i,j) = 0$表示i，j不在一类中，$S(i,j) = 1$表示i，j在一类中。默认$S(i,i) = 1$,即一个元素和它本身在同一类中。\n",
    "\n",
    "假设我们有三个元素$\\{1,2,3\\}$，分类成两类$\\{1,3\\},\\{2\\}$。\n",
    "$$\n",
    "S = \\begin{bmatrix} \n",
    "1&0&1\\\\0&1&0\\\\1&0&1\n",
    "\\end{bmatrix}\n",
    "$$\n",
    "\n",
    "我们发现，矩阵S的rank即为种类的数量。\n",
    "\n",
    "\n",
    "\n"
   ]
  },
  {
   "cell_type": "code",
   "execution_count": 2,
   "metadata": {},
   "outputs": [
    {
     "data": {
      "text/plain": [
       "<matplotlib.axes._subplots.AxesSubplot at 0x1ecbf8cbc88>"
      ]
     },
     "execution_count": 2,
     "metadata": {},
     "output_type": "execute_result"
    },
    {
     "data": {
      "image/png": "[encoded data removed]",
      "text/plain": [
       "<Figure size 432x288 with 1 Axes>"
      ]
     },
     "metadata": {
      "needs_background": "light"
     },
     "output_type": "display_data"
    }
   ],
   "source": [
    "import pandas as pd\n",
    "\n",
    "user_df = pd.read_csv(\"user_data.csv\")\n",
    "user_df.plot.scatter(x='mci', y='total_consumption')\n"
   ]
  }
 ],
 "metadata": {
  "kernelspec": {
   "display_name": "Python 3",
   "language": "python",
   "name": "python3"
  },
  "language_info": {
   "codemirror_mode": {
    "name": "ipython",
    "version": 3
   },
   "file_extension": ".py",
   "mimetype": "text/x-python",
   "name": "python",
   "nbconvert_exporter": "python",
   "pygments_lexer": "ipython3",
   "version": "3.7.3"
  }
 },
 "nbformat": 4,
 "nbformat_minor": 2
}
