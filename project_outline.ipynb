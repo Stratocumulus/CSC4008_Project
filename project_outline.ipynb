{
 "cells": [
  {
   "cell_type": "markdown",
   "metadata": {},
   "source": [
    "# CSC4008 Project Outline\n",
    "作业分为如下部分：\n",
    "- 数据描述与清洗\n",
    "- 复原教授论文中的K-means 简单说明消费者确实存在分类现象\n",
    "- 计算每个消费者的marginal consumer impact（MCI）\n",
    "- 利用MCI标注出部分可能位于同一cluster中的消费者 利用similarity矩阵的补全完成分类\n",
    "- 比较这种分类和K-means，教授的简单一维MCI分类的异同\n"
   ]
  },
  {
   "cell_type": "markdown",
   "metadata": {},
   "source": [
    "## 1. 数据描述与清洗\n",
    "数据总共有三列：日期与时间，用户ID，用户在对应时间内的用电量\n",
    "用户的数据记录数可以不同，这说明存在一部分用户在某部分时间中的消费是未被记录的（缺失值）"
   ]
  },
  {
   "cell_type": "code",
   "execution_count": 1,
   "metadata": {},
   "outputs": [
    {
     "name": "stdout",
     "output_type": "stream",
     "text": [
      "              localminute  dataid    use\n",
      "0  2016-01-01 00:00:00-06      26  0.519\n",
      "1  2016-01-01 00:00:00-06      59  1.176\n",
      "2  2016-01-01 00:00:00-06      86  0.469\n",
      "3  2016-01-01 00:00:00-06     114  1.006\n",
      "4  2016-01-01 00:00:00-06     370  0.519\n",
      "101    173100\n",
      "86     173100\n",
      "171    173072\n",
      "26     173022\n",
      "379    172980\n",
      "370    172980\n",
      "114    172980\n",
      "59     172980\n",
      "77     172964\n",
      "252    172958\n",
      "222    172920\n",
      "187    172920\n",
      "115    172920\n",
      "93     172920\n",
      "Name: dataid, dtype: int64\n"
     ]
    }
   ],
   "source": [
    "import pandas as pd\n",
    "\n",
    "# read in dataset\n",
    "df1 = pd.read_csv(\"dataset/pecan_1_min_part1.csv\")\n",
    "\n",
    "print(df1.head())\n",
    "print(df1['dataid'].value_counts())"
   ]
  }
 ],
 "metadata": {
  "kernelspec": {
   "display_name": "Python 3",
   "language": "python",
   "name": "python3"
  },
  "language_info": {
   "codemirror_mode": {
    "name": "ipython",
    "version": 3
   },
   "file_extension": ".py",
   "mimetype": "text/x-python",
   "name": "python",
   "nbconvert_exporter": "python",
   "pygments_lexer": "ipython3",
   "version": "3.7.3"
  }
 },
 "nbformat": 4,
 "nbformat_minor": 2
}
